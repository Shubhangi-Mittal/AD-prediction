{
  "cells": [
    {
      "cell_type": "code",
      "execution_count": null,
      "metadata": {
        "colab": {
          "base_uri": "https://localhost:8080/"
        },
        "id": "-NjXPDp7nzO7",
        "outputId": "cefa430f-9665-4557-b318-38678e0dff42"
      },
      "outputs": [
        {
          "output_type": "stream",
          "name": "stdout",
          "text": [
            "Mounted at /content/drive\n"
          ]
        }
      ],
      "source": [
        "from google.colab import drive\n",
        "drive.mount('/content/drive')"
      ]
    },
    {
      "cell_type": "code",
      "execution_count": null,
      "metadata": {
        "id": "n5Z84raXoPPv"
      },
      "outputs": [],
      "source": [
        "import pandas as pd\n",
        "import numpy as np\n",
        "ds=pd.read_csv('/content/drive/MyDrive/spt/GSE33000_final.csv')\n"
      ]
    },
    {
      "cell_type": "code",
      "execution_count": null,
      "metadata": {
        "colab": {
          "base_uri": "https://localhost:8080/"
        },
        "id": "AmKOhsJ9p5TB",
        "outputId": "9753879d-8361-4a89-85e7-b1909b09ddbf"
      },
      "outputs": [
        {
          "output_type": "stream",
          "name": "stdout",
          "text": [
            "(16376,)\n"
          ]
        }
      ],
      "source": [
        "features_name=ds.columns\n",
        "features_name = features_name[6:]\n",
        "print(features_name.shape)"
      ]
    },
    {
      "cell_type": "code",
      "source": [
        "from sklearn.impute import SimpleImputer\n",
        "X=ds[features_name].to_numpy()\n",
        "y=ds['Disease Status'].to_numpy()\n",
        "for i in range(0,624):\n",
        "  if y[i]==2:\n",
        "    y[i]=0\n",
        "print(X)\n",
        "ImputedModule = SimpleImputer(missing_values = np.nan, strategy ='mean')\n",
        "ImputedX = ImputedModule.fit(X)\n",
        "X = ImputedX.transform(X)\n"
      ],
      "metadata": {
        "id": "t53cdzjz690O",
        "colab": {
          "base_uri": "https://localhost:8080/"
        },
        "outputId": "2c37e4d1-8ee2-4f57-d2d5-f0d384d76b9a"
      },
      "execution_count": null,
      "outputs": [
        {
          "output_type": "stream",
          "name": "stdout",
          "text": [
            "[[0.385   0.284   0.598   ... 0.425   0.0997  0.022  ]\n",
            " [0.306   0.293   0.392   ... 0.329   0.184   0.0174 ]\n",
            " [0.247   0.284   0.35    ... 0.185   0.154   0.0088 ]\n",
            " ...\n",
            " [0.52    0.364   0.703   ... 0.967   0.132   0.00907]\n",
            " [0.576   0.25    0.36    ... 0.466   0.197   0.00866]\n",
            " [0.625   0.417   0.287   ... 0.315   0.277   0.0292 ]]\n"
          ]
        }
      ]
    },
    {
      "cell_type": "code",
      "source": [
        "from sklearn.feature_selection import SelectKBest, chi2\n",
        "\n",
        "K=40\n",
        "score_chi2=[]\n",
        "ID_chi=[]\n",
        "\n",
        "ch2 = SelectKBest(chi2, k=K)\n",
        "X1= ch2.fit_transform(X, y)\n",
        "\n",
        "nn1= ch2.get_support()\n",
        "F1_len=len(nn1)\n",
        "\n",
        "for i in range ( F1_len):\n",
        "        if nn1[i]==True:\n",
        "            \n",
        "            print( features_name[i],\":\",ch2.scores_[i])\n",
        "            \n",
        "            score_chi2.append(ch2.scores_[i])\n",
        "            #ID_chi.append(features_Id[i])\n",
        "    # # print( ch2.get_params())\n",
        "    # ##--------------------------------------------\n",
        "ID_chi=[int(i) for i in ID_chi] # to convert list from float to int \n",
        "m_ID_chi2 = []\n",
        "for j in range(len(ID_chi)):\n",
        "    m_ID_chi2.append([ID_chi[j], score_chi2[j]])\n",
        "m_ID_chi2.sort(key=lambda x: x[1], reverse=True)"
      ],
      "metadata": {
        "colab": {
          "base_uri": "https://localhost:8080/"
        },
        "id": "B3tuzW_6f_9F",
        "outputId": "14521c46-0691-4aa6-a48a-70f414d6b200"
      },
      "execution_count": null,
      "outputs": [
        {
          "output_type": "stream",
          "name": "stdout",
          "text": [
            "PTGDS,PDS,PGD2,PGDS,PGDS2 : 2015.4976710292735\n",
            "GFAP,FLJ45472 : 3484.967166497837\n",
            "VIM,FLJ36605 : 1513.4895126834654\n",
            "LMO4 : 488.9869006046214\n",
            "TXNIP,THIF,VDUP1,HHCPA78,EST01027 : 458.24007817316306\n",
            "IFITM2,1-8D : 939.0151204788858\n",
            "CHN1,CHN,ARHGAP2,RHOGAP2 : 478.0676253876254\n",
            "UCHL1,PARK5,PGP9.5.1 : 1063.3194211957127\n",
            "BEX1,BEX2,HBEX2,HGR74-h : 665.6485730869312\n",
            "B2M : 900.5559365408544\n",
            "PFN2,PFL,D3S1319E : 536.0846522883076\n",
            "CHGB,SCG1 : 496.05304514149805\n",
            "SYN2,SYNII,SYNIIa,SYNIIb : 523.0981993258067\n",
            "CCK : 783.7637428699318\n",
            "YWHAH,YWHA1 : 492.8569004352768\n",
            "OLFM1,AMY,NOE1,OlfA,NOELIN,NOELIN1,NOELIN1_V1,NOELIN1_V2,NOELIN1_V4 : 1237.1059528585192\n",
            "STXBP1,UNC18,hUNC18,rbSec1,MUNC18-1 : 490.9850612245614\n",
            "RTN1,NSP : 732.0327493018885\n",
            "K-ALPHA-1 : 523.5854634679304\n",
            "GNG3 : 490.61439965629074\n",
            "TU3A,DRR1 : 774.6730397556744\n",
            "SLC1A3,EAAT1,GLAST,GLAST1 : 457.8913191684198\n",
            "BASP1,CAP23,NAP22,CAP-23,NAP-22,MGC8555 : 839.7107803295997\n",
            "CLU,CLI,APOJ,SGP2,SGP-2,SP-40,TRPM2,TRPM-2,MGC24903 : 943.6168357928311\n",
            "GJA1,ODD,CX43,GJAL,ODDD,ODOD,SDTY3,DFNB38 : 666.8106974126474\n",
            "SNAP25,RIC4,SNAP,RIC-4,SNAP-25,FLJ23079,bA416N4.2,dJ1068F16.2 : 1377.0781172085678\n",
            "TUBB2A,TUBB,TUBB2,dJ40E16.7 : 842.9773670511033\n",
            "HBB,HBD,CD113t-C,hemoglobin : 852.9650083034824\n",
            "SNCB : 821.6312268626424\n",
            "SNTG2,SYN5,G2SYN : 522.6911735675067\n",
            "MDH1,MDHA,MOR2,MDH-s,MGC:1375.1 : 524.9574109646144\n",
            "AF085874 : 932.1792391420427\n",
            "LOC440552 : 545.3707327891674\n",
            "MICA,PERB11.1,truncated : 802.8239806786883\n",
            "XIST,XCE,XIC,SXI1,swd66,DXS1089,DXS399E : 617.1990199843656\n",
            "MYOZ2,CS-1,C4orf5 : 807.0264405854324\n",
            "MT1J,MT1,MTB,MT1NP : 589.8444626371929\n",
            "COX2,MTCO2.1 : 581.5914098297388\n",
            "FBXL16,Fbl16,C16orf22,MGC33974,c380A1.1 : 1153.8574177343114\n",
            "C1orf182,SSTK-IP,MGC26877,RP11-443G18.5 : 518.6862106619964\n"
          ]
        }
      ]
    },
    {
      "cell_type": "code",
      "source": [
        "from sklearn.feature_selection import f_classif\n",
        "\n",
        "\n",
        "K=20\n",
        "score_anova=[]\n",
        "ID_anova=[]\n",
        "Anova_fs = SelectKBest(f_classif, k=K)\n",
        "X2= Anova_fs.fit_transform(X, y)\n",
        "nn2= Anova_fs.get_support()\n",
        "F2_len=len(nn2)\n",
        "\n",
        "for i in range ( F2_len):\n",
        "        if nn2[i]==True:\n",
        "            \n",
        "            print( features_name[i],\":\",ch2.scores_[i])\n",
        "            # names_anova.append(features_name[i])\n",
        "            #score_anova.append(Anova_fs.scores_[i])\n",
        "            #ID_anova.append(features_Id[i])\n",
        "  \n",
        "ID_anova=[int(i) for i in ID_anova] # to convert list from float to int \n",
        "m_ID_anova = []\n",
        "for j in range(len(ID_anova)):\n",
        "    m_ID_anova.append([ID_anova[j], score_anova[j]])\n",
        "m_ID_anova.sort(key=lambda x: x[1], reverse=True)"
      ],
      "metadata": {
        "colab": {
          "base_uri": "https://localhost:8080/"
        },
        "id": "s6QlQzsvgpNi",
        "outputId": "e1d4cf5b-4f09-4bc1-f33f-e58d6ef5f3dc"
      },
      "execution_count": null,
      "outputs": [
        {
          "output_type": "stream",
          "name": "stdout",
          "text": [
            "MARCH4,RNF174,MARCH-IV,MGC104908 : 36.701566763192766\n",
            "CBLN4,CBLNL1 : 67.61069894015901\n",
            "FLJ37034 : 9.816332216749146\n",
            "PCDH8,PAPC,ARCADLIN : 257.010248287303\n",
            "HSPB3,HSPL27 : 23.72297037266371\n",
            "RBP4 : 150.57411230602375\n",
            "HRAS,HRAS1,K-ras,N-ras,RASH1,c-bas/has : 14.044425540538713\n",
            "C1orf95,RP11-9C4.1,DKFZp761P211.1 : 14.491393959866926\n",
            "EMID2,EMI6,EMU2,hEmu2,COL26A1,MGC129848 : 31.93781349119501\n",
            "TAC3,NKB,NKNB,PRO1155,ZNEUROK1 : 56.13259207429361\n",
            "HAS1,HAS : 11.832252807918664\n",
            "OLFM1,AMY,NOE1,OlfA,NOELIN,NOELIN1,NOELIN1_V1,NOELIN1_V2,NOELIN1_V4 : 1237.1059528585192\n",
            "GNG3 : 490.61439965629074\n",
            "HOP,OB1,LAGY,Toto,Cameo,NECC1,SMAP31,MGC20820 : 334.8508100463466\n",
            "VMP,p24 : 124.65941240006663\n",
            "LOC387856 : 66.90894101823834\n",
            "MGC10911 : 6.070524429301683\n",
            "PIN1L,PIN1 peptidyl-prolyl cis/trans isomerase-like,peptidyl-prolyl cis/trans isomerase, NIMA-interacting-like : 102.32385339955864\n",
            "SVOP,DKFZp761H039 : 123.39556270891948\n",
            "ATP2A2,DD,DAR,ATP2B,SERCA2,MGC45367.1 : 75.85075688677358\n"
          ]
        }
      ]
    },
    {
      "cell_type": "code",
      "source": [
        "from sklearn.feature_selection import mutual_info_classif\n",
        "\n",
        "K=20\n",
        "score_MI=[]\n",
        "ID_MI=[]\n",
        "MI_fs = SelectKBest(mutual_info_classif, k=10)\n",
        "X3= MI_fs.fit_transform(X, y)\n",
        "nn3= MI_fs.get_support()\n",
        "F3_len=len(nn3)\n",
        "\n",
        "for i in range ( F3_len):\n",
        "        if nn3[i]==True:\n",
        "            \n",
        "            print( features_name[i],\":\",ch2.scores_[i])\n",
        "            # names_MI.append(features_name[i])\n",
        "            #ID_MI.append(features_Id[i])\n",
        "            #score_MI.append(MI_fs.scores_[i])\n",
        "  \n",
        "    # ##--------------------------------------------\n",
        "ID_MI=[int(i) for i in ID_MI] # to convert list from float to int \n",
        "m_ID_MI = []\n",
        "for j in range(len(ID_MI)):\n",
        "    m_ID_MI.append([ID_MI[j], score_MI[j]])\n",
        "m_ID_MI.sort(key=lambda x: x[1], reverse=True)\n"
      ],
      "metadata": {
        "colab": {
          "base_uri": "https://localhost:8080/"
        },
        "id": "1fprsdFagzlo",
        "outputId": "bf83d783-dabb-46c4-df22-6eabc92ca1de"
      },
      "execution_count": null,
      "outputs": [
        {
          "output_type": "stream",
          "name": "stdout",
          "text": [
            "MARCH4,RNF174,MARCH-IV,MGC104908 : 36.701566763192766\n",
            "FREM3 : 23.64327647663013\n",
            "CBLN4,CBLNL1 : 67.61069894015901\n",
            "FLJ37034 : 9.816332216749146\n",
            "PCDH8,PAPC,ARCADLIN : 257.010248287303\n",
            "CAP2 : 118.34059360828803\n",
            "RBP4 : 150.57411230602375\n",
            "CRH,CRF : 68.1336543161909\n",
            "OLFM1,AMY,NOE1,OlfA,NOELIN,NOELIN1,NOELIN1_V1,NOELIN1_V2,NOELIN1_V4 : 1237.1059528585192\n",
            "PIN1L,PIN1 peptidyl-prolyl cis/trans isomerase-like,peptidyl-prolyl cis/trans isomerase, NIMA-interacting-like : 102.32385339955864\n"
          ]
        }
      ]
    },
    {
      "cell_type": "code",
      "source": [
        "X=ds[['OLFM1,AMY,NOE1,OlfA,NOELIN,NOELIN1,NOELIN1_V1,NOELIN1_V2,NOELIN1_V4','CRH,CRF']].to_numpy()"
      ],
      "metadata": {
        "id": "B8p5jPs3DKKu"
      },
      "execution_count": null,
      "outputs": []
    },
    {
      "cell_type": "code",
      "source": [
        "ImputedModule = SimpleImputer(missing_values = np.nan, strategy ='mean')\n",
        "ImputedX = ImputedModule.fit(X)\n",
        "X = ImputedX.transform(X)"
      ],
      "metadata": {
        "id": "T16aP24tEgpx"
      },
      "execution_count": null,
      "outputs": []
    },
    {
      "cell_type": "code",
      "source": [
        "from sklearn.model_selection import train_test_split\n",
        "X_tr, X_ts, y_tr, y_ts= train_test_split(X, y, test_size=125, random_state=44, shuffle =True)\n",
        "\n",
        "print('X_train shape is ' , X_tr.shape)\n",
        "print('X_test shape is ' , X_ts.shape)\n",
        "print('y_train shape is ' , y_tr.shape)\n",
        "print('y_test shape is ' , y_ts.shape)"
      ],
      "metadata": {
        "colab": {
          "base_uri": "https://localhost:8080/"
        },
        "id": "4XLsAaknGWNC",
        "outputId": "514ccd96-0a69-47c4-85ee-5fb47b4fc64b"
      },
      "execution_count": null,
      "outputs": [
        {
          "output_type": "stream",
          "name": "stdout",
          "text": [
            "X_train shape is  (499, 2)\n",
            "X_test shape is  (125, 2)\n",
            "y_train shape is  (499,)\n",
            "y_test shape is  (125,)\n"
          ]
        }
      ]
    },
    {
      "cell_type": "code",
      "source": [
        "from sklearn.model_selection import RepeatedStratifiedKFold\n",
        "k=10\n",
        "n=30\n",
        "Id_case=[]\n",
        "\n",
        "# acc_arr_A8=[]\n",
        "# acc_arr_S8=[]\n",
        "# acc_arr_R8=[]\n",
        "# acc_arr_L8=[]\n",
        "rskf = RepeatedStratifiedKFold(n_splits=k,n_repeats=n,random_state=44)\n",
        "rskf.get_n_splits(X_tr, y_tr)\n",
        "\n",
        "precision_av=0\n",
        "Recall_av=0\n",
        "specificity_av=0\n",
        "acc_av=0\n",
        "f1_av=0\n",
        "roc_auc_av=0\n",
        "cm_av=0\n",
        "kappa_av=0\n",
        "\n",
        "    \n",
        "for train_index1, test_index1 in rskf.split(X_tr, y_tr):\n",
        "        X_train1, X_test1 =X_tr[[train_index1]],X_tr[[test_index1]]\n",
        "        y_train1, y_test1 = y_tr[train_index1],y_tr[test_index1]\n",
        "  \n",
        "#print('X_train1' , X_train1.shape)\n",
        "print(X_train1[0])\n",
        "case=X_train1[0]\n",
        "Id_case.append(case)\n"
      ],
      "metadata": {
        "colab": {
          "base_uri": "https://localhost:8080/"
        },
        "id": "w183SVn-MO-V",
        "outputId": "aa5636f6-b2b3-47e5-95dc-deef889060ea"
      },
      "execution_count": null,
      "outputs": [
        {
          "output_type": "stream",
          "name": "stdout",
          "text": [
            "[57.2    0.988]\n"
          ]
        },
        {
          "output_type": "stream",
          "name": "stderr",
          "text": [
            "/usr/local/lib/python3.7/dist-packages/ipykernel_launcher.py:24: FutureWarning: Using a non-tuple sequence for multidimensional indexing is deprecated; use `arr[tuple(seq)]` instead of `arr[seq]`. In the future this will be interpreted as an array index, `arr[np.array(seq)]`, which will result either in an error or a different result.\n",
            "/usr/local/lib/python3.7/dist-packages/ipykernel_launcher.py:24: FutureWarning: Using a non-tuple sequence for multidimensional indexing is deprecated; use `arr[tuple(seq)]` instead of `arr[seq]`. In the future this will be interpreted as an array index, `arr[np.array(seq)]`, which will result either in an error or a different result.\n",
            "/usr/local/lib/python3.7/dist-packages/ipykernel_launcher.py:24: FutureWarning: Using a non-tuple sequence for multidimensional indexing is deprecated; use `arr[tuple(seq)]` instead of `arr[seq]`. In the future this will be interpreted as an array index, `arr[np.array(seq)]`, which will result either in an error or a different result.\n",
            "/usr/local/lib/python3.7/dist-packages/ipykernel_launcher.py:24: FutureWarning: Using a non-tuple sequence for multidimensional indexing is deprecated; use `arr[tuple(seq)]` instead of `arr[seq]`. In the future this will be interpreted as an array index, `arr[np.array(seq)]`, which will result either in an error or a different result.\n",
            "/usr/local/lib/python3.7/dist-packages/ipykernel_launcher.py:24: FutureWarning: Using a non-tuple sequence for multidimensional indexing is deprecated; use `arr[tuple(seq)]` instead of `arr[seq]`. In the future this will be interpreted as an array index, `arr[np.array(seq)]`, which will result either in an error or a different result.\n",
            "/usr/local/lib/python3.7/dist-packages/ipykernel_launcher.py:24: FutureWarning: Using a non-tuple sequence for multidimensional indexing is deprecated; use `arr[tuple(seq)]` instead of `arr[seq]`. In the future this will be interpreted as an array index, `arr[np.array(seq)]`, which will result either in an error or a different result.\n",
            "/usr/local/lib/python3.7/dist-packages/ipykernel_launcher.py:24: FutureWarning: Using a non-tuple sequence for multidimensional indexing is deprecated; use `arr[tuple(seq)]` instead of `arr[seq]`. In the future this will be interpreted as an array index, `arr[np.array(seq)]`, which will result either in an error or a different result.\n",
            "/usr/local/lib/python3.7/dist-packages/ipykernel_launcher.py:24: FutureWarning: Using a non-tuple sequence for multidimensional indexing is deprecated; use `arr[tuple(seq)]` instead of `arr[seq]`. In the future this will be interpreted as an array index, `arr[np.array(seq)]`, which will result either in an error or a different result.\n",
            "/usr/local/lib/python3.7/dist-packages/ipykernel_launcher.py:24: FutureWarning: Using a non-tuple sequence for multidimensional indexing is deprecated; use `arr[tuple(seq)]` instead of `arr[seq]`. In the future this will be interpreted as an array index, `arr[np.array(seq)]`, which will result either in an error or a different result.\n",
            "/usr/local/lib/python3.7/dist-packages/ipykernel_launcher.py:24: FutureWarning: Using a non-tuple sequence for multidimensional indexing is deprecated; use `arr[tuple(seq)]` instead of `arr[seq]`. In the future this will be interpreted as an array index, `arr[np.array(seq)]`, which will result either in an error or a different result.\n",
            "/usr/local/lib/python3.7/dist-packages/ipykernel_launcher.py:24: FutureWarning: Using a non-tuple sequence for multidimensional indexing is deprecated; use `arr[tuple(seq)]` instead of `arr[seq]`. In the future this will be interpreted as an array index, `arr[np.array(seq)]`, which will result either in an error or a different result.\n",
            "/usr/local/lib/python3.7/dist-packages/ipykernel_launcher.py:24: FutureWarning: Using a non-tuple sequence for multidimensional indexing is deprecated; use `arr[tuple(seq)]` instead of `arr[seq]`. In the future this will be interpreted as an array index, `arr[np.array(seq)]`, which will result either in an error or a different result.\n",
            "/usr/local/lib/python3.7/dist-packages/ipykernel_launcher.py:24: FutureWarning: Using a non-tuple sequence for multidimensional indexing is deprecated; use `arr[tuple(seq)]` instead of `arr[seq]`. In the future this will be interpreted as an array index, `arr[np.array(seq)]`, which will result either in an error or a different result.\n",
            "/usr/local/lib/python3.7/dist-packages/ipykernel_launcher.py:24: FutureWarning: Using a non-tuple sequence for multidimensional indexing is deprecated; use `arr[tuple(seq)]` instead of `arr[seq]`. In the future this will be interpreted as an array index, `arr[np.array(seq)]`, which will result either in an error or a different result.\n",
            "/usr/local/lib/python3.7/dist-packages/ipykernel_launcher.py:24: FutureWarning: Using a non-tuple sequence for multidimensional indexing is deprecated; use `arr[tuple(seq)]` instead of `arr[seq]`. In the future this will be interpreted as an array index, `arr[np.array(seq)]`, which will result either in an error or a different result.\n",
            "/usr/local/lib/python3.7/dist-packages/ipykernel_launcher.py:24: FutureWarning: Using a non-tuple sequence for multidimensional indexing is deprecated; use `arr[tuple(seq)]` instead of `arr[seq]`. In the future this will be interpreted as an array index, `arr[np.array(seq)]`, which will result either in an error or a different result.\n",
            "/usr/local/lib/python3.7/dist-packages/ipykernel_launcher.py:24: FutureWarning: Using a non-tuple sequence for multidimensional indexing is deprecated; use `arr[tuple(seq)]` instead of `arr[seq]`. In the future this will be interpreted as an array index, `arr[np.array(seq)]`, which will result either in an error or a different result.\n",
            "/usr/local/lib/python3.7/dist-packages/ipykernel_launcher.py:24: FutureWarning: Using a non-tuple sequence for multidimensional indexing is deprecated; use `arr[tuple(seq)]` instead of `arr[seq]`. In the future this will be interpreted as an array index, `arr[np.array(seq)]`, which will result either in an error or a different result.\n",
            "/usr/local/lib/python3.7/dist-packages/ipykernel_launcher.py:24: FutureWarning: Using a non-tuple sequence for multidimensional indexing is deprecated; use `arr[tuple(seq)]` instead of `arr[seq]`. In the future this will be interpreted as an array index, `arr[np.array(seq)]`, which will result either in an error or a different result.\n",
            "/usr/local/lib/python3.7/dist-packages/ipykernel_launcher.py:24: FutureWarning: Using a non-tuple sequence for multidimensional indexing is deprecated; use `arr[tuple(seq)]` instead of `arr[seq]`. In the future this will be interpreted as an array index, `arr[np.array(seq)]`, which will result either in an error or a different result.\n",
            "/usr/local/lib/python3.7/dist-packages/ipykernel_launcher.py:24: FutureWarning: Using a non-tuple sequence for multidimensional indexing is deprecated; use `arr[tuple(seq)]` instead of `arr[seq]`. In the future this will be interpreted as an array index, `arr[np.array(seq)]`, which will result either in an error or a different result.\n",
            "/usr/local/lib/python3.7/dist-packages/ipykernel_launcher.py:24: FutureWarning: Using a non-tuple sequence for multidimensional indexing is deprecated; use `arr[tuple(seq)]` instead of `arr[seq]`. In the future this will be interpreted as an array index, `arr[np.array(seq)]`, which will result either in an error or a different result.\n",
            "/usr/local/lib/python3.7/dist-packages/ipykernel_launcher.py:24: FutureWarning: Using a non-tuple sequence for multidimensional indexing is deprecated; use `arr[tuple(seq)]` instead of `arr[seq]`. In the future this will be interpreted as an array index, `arr[np.array(seq)]`, which will result either in an error or a different result.\n",
            "/usr/local/lib/python3.7/dist-packages/ipykernel_launcher.py:24: FutureWarning: Using a non-tuple sequence for multidimensional indexing is deprecated; use `arr[tuple(seq)]` instead of `arr[seq]`. In the future this will be interpreted as an array index, `arr[np.array(seq)]`, which will result either in an error or a different result.\n",
            "/usr/local/lib/python3.7/dist-packages/ipykernel_launcher.py:24: FutureWarning: Using a non-tuple sequence for multidimensional indexing is deprecated; use `arr[tuple(seq)]` instead of `arr[seq]`. In the future this will be interpreted as an array index, `arr[np.array(seq)]`, which will result either in an error or a different result.\n",
            "/usr/local/lib/python3.7/dist-packages/ipykernel_launcher.py:24: FutureWarning: Using a non-tuple sequence for multidimensional indexing is deprecated; use `arr[tuple(seq)]` instead of `arr[seq]`. In the future this will be interpreted as an array index, `arr[np.array(seq)]`, which will result either in an error or a different result.\n",
            "/usr/local/lib/python3.7/dist-packages/ipykernel_launcher.py:24: FutureWarning: Using a non-tuple sequence for multidimensional indexing is deprecated; use `arr[tuple(seq)]` instead of `arr[seq]`. In the future this will be interpreted as an array index, `arr[np.array(seq)]`, which will result either in an error or a different result.\n",
            "/usr/local/lib/python3.7/dist-packages/ipykernel_launcher.py:24: FutureWarning: Using a non-tuple sequence for multidimensional indexing is deprecated; use `arr[tuple(seq)]` instead of `arr[seq]`. In the future this will be interpreted as an array index, `arr[np.array(seq)]`, which will result either in an error or a different result.\n",
            "/usr/local/lib/python3.7/dist-packages/ipykernel_launcher.py:24: FutureWarning: Using a non-tuple sequence for multidimensional indexing is deprecated; use `arr[tuple(seq)]` instead of `arr[seq]`. In the future this will be interpreted as an array index, `arr[np.array(seq)]`, which will result either in an error or a different result.\n",
            "/usr/local/lib/python3.7/dist-packages/ipykernel_launcher.py:24: FutureWarning: Using a non-tuple sequence for multidimensional indexing is deprecated; use `arr[tuple(seq)]` instead of `arr[seq]`. In the future this will be interpreted as an array index, `arr[np.array(seq)]`, which will result either in an error or a different result.\n"
          ]
        }
      ]
    },
    {
      "cell_type": "code",
      "source": [
        "print(X_train1.shape)"
      ],
      "metadata": {
        "colab": {
          "base_uri": "https://localhost:8080/"
        },
        "id": "mz3cDp9SM2sx",
        "outputId": "3f430633-5db5-4d12-e7e5-3d41c24d3b8f"
      },
      "execution_count": null,
      "outputs": [
        {
          "output_type": "stream",
          "name": "stdout",
          "text": [
            "(450, 2)\n"
          ]
        }
      ]
    },
    {
      "cell_type": "code",
      "execution_count": null,
      "metadata": {
        "id": "9CoR-mnunFXf"
      },
      "outputs": [],
      "source": [
        "\n",
        "from sklearn.svm import SVC\n",
        "SVM = SVC(kernel=\"linear\")\n",
        "\n",
        "SVM.fit(X_train1, y_train1)\n",
        "fit_time = time.time()- t0\n",
        "        % fit_time)\n",
        "        \n",
        "train_score= SVM.score(X_train1, y_train1)\n",
        "#        print('SVM Train Score is : ' ,train_score )\n",
        "        \n",
        "test_score= SVM.score(X_test1, y_test1)\n",
        "#        print('SVM Test Score is : ' , test_score )\n",
        "        \n",
        "y_pred = SVM.predict(X_test1)"
      ]
    },
    {
      "cell_type": "code",
      "source": [
        "from sklearn import metrics\n",
        "from sklearn.metrics import *\n",
        "\n",
        "cm = confusion_matrix(y_test1, y_pred) \n",
        "print('Confusion Matrix : \\n', cm)\n",
        "cm_av+=cm\n",
        "acc_arr_S8=[]        \n",
        "      \n",
        "accuracy_score=metrics.accuracy_score(y_test1, y_pred)\n",
        "acc_arr_S8.append(accuracy_score)\n",
        "print(\"accuracy_score=\",accuracy_score)\n",
        "acc_av+=accuracy_score\n",
        "        \n",
        "################################# f1_score\n",
        "from sklearn.metrics import f1_score\n",
        "f1_sco=f1_score(y_test1, y_pred)\n",
        "print('f1_score=',f1_sco)        \n",
        "f1_av+=f1_sco\n",
        "        \n",
        "########################### roc_auc_score  \n",
        "roc_auc = metrics.roc_auc_score(y_test1,y_pred)\n",
        "print(\"roc_auc=\",roc_auc)\n",
        "roc_auc_av+=roc_auc\n",
        "\n",
        "            \n",
        "################ precision\n",
        "PrecisionScore = precision_score(y_test1, y_pred)\n",
        "print(\"Precision:\",PrecisionScore)\n",
        "precision_av+=PrecisionScore\n",
        "        \n",
        "################Recall       \n",
        "Rec=recall_score(y_test1, y_pred)\n",
        "print(\"recall:\", Rec)\n",
        "Recall_av+=Rec\n",
        "        \n",
        "###################specificity\n",
        "spec = cm[1,1]/(cm[1,1]+cm[1,0])\n",
        "print('Specificity : ', spec)\n",
        "specificity_av+=spec\n",
        "        \n",
        "############# kappa\n",
        "kappa=cohen_kappa_score(y_test1, y_pred)\n",
        "print('kappa:', kappa)\n",
        "kappa_av+=kappa\n",
        "         \n",
        "######### get the average of the evaluation metrics            \n",
        "\n",
        "precision_average=(precision_av/n)/k\n",
        "Recall_average=(Recall_av/n)/k\n",
        "spec_average=(specificity_av/n)/k\n",
        "kappa_average=(kappa_av/n)/k\n",
        "acc_average= (acc_av/n)/k\n",
        "f1_average=(f1_av/n)/k\n",
        "roc_auc_average=(roc_auc_av/n)/k\n",
        "cm_average=(cm_av/n)\n",
        "\n",
        "\n",
        "\n",
        "#print(\"acc_average=\",acc_average)\n",
        "#print(\"f1_average=\",f1_average)\n",
        "#print(\"roc_auc_av=\",roc_auc_average)\n",
        "#print(\"time_average=\",time_average)\n",
        "#print(\"train_score_av=\",train_score_av)\n",
        "#print(\"test_score_av=\",test_score_av)"
      ],
      "metadata": {
        "colab": {
          "base_uri": "https://localhost:8080/"
        },
        "id": "z5K3_f84VmVw",
        "outputId": "189e5129-a60a-4fc2-e2c2-6db3cfd0228b"
      },
      "execution_count": null,
      "outputs": [
        {
          "output_type": "stream",
          "name": "stdout",
          "text": [
            "Confusion Matrix : \n",
            " [[21  5]\n",
            " [ 1 22]]\n",
            "accuracy_score= 0.8775510204081632\n",
            "f1_score= 0.8800000000000001\n",
            "roc_auc= 0.8821070234113713\n",
            "Precision: 0.8148148148148148\n",
            "recall: 0.9565217391304348\n",
            "Specificity :  0.9565217391304348\n",
            "kappa: 0.7566225165562914\n"
          ]
        }
      ]
    },
    {
      "cell_type": "code",
      "source": [
        "test_score= SVM.score(X_ts, y_ts)\n",
        "print('SVM Test Score is : ' , test_score )\n",
        "y_pred2 = SVM.predict(X_ts)\n",
        "\n",
        "###### metrics to evaluate test set \n",
        "accuracy_test=metrics.accuracy_score(y_ts, y_pred2)\n",
        "f1_sco_test=f1_score(y_ts, y_pred2)\n",
        "roc_auc_test = metrics.roc_auc_score(y_ts, y_pred2)\n",
        "cm_test = confusion_matrix(y_ts, y_pred2) \n",
        "Precision_test = precision_score(y_ts, y_pred2)       \n",
        "Recall_test=recall_score(y_ts, y_pred2)\n",
        "spec_test = cm_test[1,1]/(cm_test[1,0]+cm_test[1,1])    \n",
        "kappa_test=cohen_kappa_score(y_ts, y_pred2)\n",
        " \n",
        "print(\"precision:\",Precision_test)        \n",
        "print(\"recall:\",Recall_test) \n",
        "print(\"spec:\",spec_test)                          \n",
        "print(\"accuracy:\",accuracy_test)\n",
        "print(\"f1 score:\",f1_sco_test)\n",
        "print(\"auc:\",roc_auc_test)\n",
        "print( cm_test)\n"
      ],
      "metadata": {
        "id": "dwQBsJLLa99s",
        "outputId": "be62dbf7-cf61-4074-8843-3ec63dd2acf2",
        "colab": {
          "base_uri": "https://localhost:8080/"
        }
      },
      "execution_count": null,
      "outputs": [
        {
          "output_type": "stream",
          "name": "stdout",
          "text": [
            "SVM Test Score is :  0.784\n",
            "precision: 0.7922077922077922\n",
            "recall: 0.8472222222222222\n",
            "spec: 0.8472222222222222\n",
            "accuracy: 0.784\n",
            "f1 score: 0.8187919463087249\n",
            "auc: 0.7726677148846961\n",
            "[[37 16]\n",
            " [11 61]]\n"
          ]
        }
      ]
    },
    {
      "cell_type": "code",
      "source": [
        "import seaborn as sns\n",
        "sns.heatmap(cm_test,center=True, annot=True)"
      ],
      "metadata": {
        "colab": {
          "base_uri": "https://localhost:8080/",
          "height": 282
        },
        "id": "oE3cDJmIWuOV",
        "outputId": "1d29ce9e-104c-4120-b2ab-25480f9210a4"
      },
      "execution_count": null,
      "outputs": [
        {
          "output_type": "execute_result",
          "data": {
            "text/plain": [
              "<matplotlib.axes._subplots.AxesSubplot at 0x7f79521e5b90>"
            ]
          },
          "metadata": {},
          "execution_count": 28
        },
        {
          "output_type": "display_data",
          "data": {
            "text/plain": [
              "<Figure size 432x288 with 2 Axes>"
            ],
            "image/png": "[encoded data removed]"
          },
          "metadata": {
            "needs_background": "light"
          }
        }
      ]
    },
    {
      "cell_type": "code",
      "source": [
        "import time\n",
        "from sklearn import metrics\n",
        "from sklearn.metrics import *\n",
        "from sklearn.linear_model import LogisticRegression\n",
        "LR= LogisticRegression()\n",
        "t0 = time.time()\n",
        "LR.fit(X_train1, y_train1)\n",
        "fit_time = time.time() - t0\n",
        "train_score= LR.score(X_train1, y_train1)\n",
        "test_score=LR.score(X_test1, y_test1)\n",
        "y_pred = LR.predict(X_test1)\n",
        "cm1 = confusion_matrix(y_test1, y_pred) \n",
        "print('Confusion Matrix : \\n', cm1)\n",
        "cm_av+=cm1\n",
        "acc_arr_S8=[]        \n",
        "accuracy_score=metrics.accuracy_score(y_test1, y_pred)\n",
        "acc_arr_S8.append(accuracy_score)\n",
        "print(\"accuracy_score=\",accuracy_score)\n",
        "acc_av+=accuracy_score\n",
        "from sklearn.metrics import f1_score\n",
        "f1_sco=f1_score(y_test1, y_pred)\n",
        "print('f1_score=',f1_sco)        \n",
        "f1_av+=f1_sco\n",
        "roc_auc = metrics.roc_auc_score(y_test1,y_pred)\n",
        "print(\"roc_auc=\",roc_auc)\n",
        "roc_auc_av+=roc_auc\n",
        "PrecisionScore = precision_score(y_test1, y_pred)\n",
        "print(\"Precision:\",PrecisionScore)\n",
        "precision_av+=PrecisionScore\n",
        "Rec=recall_score(y_test1, y_pred)\n",
        "print(\"recall:\", Rec)\n",
        "Recall_av+=Rec\n"
      ],
      "metadata": {
        "colab": {
          "base_uri": "https://localhost:8080/"
        },
        "id": "aEUI8WfUhpGj",
        "outputId": "9ab26322-e87c-42d6-8880-ef671f2670d4"
      },
      "execution_count": null,
      "outputs": [
        {
          "output_type": "stream",
          "name": "stdout",
          "text": [
            "Confusion Matrix : \n",
            " [[21  5]\n",
            " [ 1 22]]\n",
            "accuracy_score= 0.8775510204081632\n",
            "f1_score= 0.8800000000000001\n",
            "roc_auc= 0.8821070234113713\n",
            "Precision: 0.8148148148148148\n",
            "recall: 0.9565217391304348\n"
          ]
        }
      ]
    },
    {
      "cell_type": "code",
      "source": [
        "import seaborn as sns\n",
        "sns.heatmap(cm1,center=True, annot=True)"
      ],
      "metadata": {
        "colab": {
          "base_uri": "https://localhost:8080/",
          "height": 282
        },
        "id": "1yYBb7ahV-HL",
        "outputId": "91f2682c-466f-47d0-a74e-ec52a801e0f5"
      },
      "execution_count": null,
      "outputs": [
        {
          "output_type": "execute_result",
          "data": {
            "text/plain": [
              "<matplotlib.axes._subplots.AxesSubplot at 0x7f7952278410>"
            ]
          },
          "metadata": {},
          "execution_count": 27
        },
        {
          "output_type": "display_data",
          "data": {
            "text/plain": [
              "<Figure size 432x288 with 2 Axes>"
            ],
            "image/png": "[encoded data removed]"
          },
          "metadata": {
            "needs_background": "light"
          }
        }
      ]
    },
    {
      "cell_type": "code",
      "source": [
        "import matplotlib.pyplot as plt\n",
        "Y = [0.7726677148846961,0.8821070234113713]\n",
        "x= ['SVM','LR']\n",
        "plt.bar(x,Y,color=\"maroon\",width=0.5)\n",
        "plt.xlabel('ML algorithms')\n",
        "plt.ylabel(\"Values\")\n",
        "plt.title('Comparing auc')\n",
        "plt.show()\n"
      ],
      "metadata": {
        "colab": {
          "base_uri": "https://localhost:8080/",
          "height": 295
        },
        "id": "PJ4xl1iYaSW6",
        "outputId": "355c4a1a-7341-41be-eead-d615b14d6ecc"
      },
      "execution_count": null,
      "outputs": [
        {
          "output_type": "display_data",
          "data": {
            "text/plain": [
              "<Figure size 432x288 with 1 Axes>"
            ],
            "image/png": "[encoded data removed]"
          },
          "metadata": {
            "needs_background": "light"
          }
        }
      ]
    },
    {
      "cell_type": "code",
      "source": [
        "import matplotlib.pyplot as plt\n",
        "Y = [0.784,0.8775510204081632]\n",
        "x= ['SVM','LR']\n",
        "plt.bar(x,Y,color=\"blue\",width=0.5)\n",
        "plt.xlabel('ML algorithms')\n",
        "plt.ylabel(\"Values\")\n",
        "plt.title('Comparing accuracy')\n",
        "plt.show()\n"
      ],
      "metadata": {
        "colab": {
          "base_uri": "https://localhost:8080/",
          "height": 295
        },
        "id": "LvqSYRlOgu2p",
        "outputId": "614a8473-d325-47d2-f52e-b8ab1a58a2bf"
      },
      "execution_count": null,
      "outputs": [
        {
          "output_type": "display_data",
          "data": {
            "text/plain": [
              "<Figure size 432x288 with 1 Axes>"
            ],
            "image/png": "[encoded data removed]"
          },
          "metadata": {
            "needs_background": "light"
          }
        }
      ]
    },
    {
      "cell_type": "code",
      "source": [
        "import matplotlib.pyplot as plt\n",
        "Y = [0.7922077922077922,0.8148148148148148]\n",
        "x= ['SVM','LR']\n",
        "plt.bar(x,Y,color=\"green\",width=0.5)\n",
        "plt.xlabel('ML algorithms')\n",
        "plt.ylabel(\"Values\")\n",
        "plt.title('Comparing precision')\n",
        "plt.show()\n"
      ],
      "metadata": {
        "colab": {
          "base_uri": "https://localhost:8080/",
          "height": 295
        },
        "id": "HsDZWLZHjnUg",
        "outputId": "2fe34a2b-b0ec-4b35-af17-df3a7362d491"
      },
      "execution_count": null,
      "outputs": [
        {
          "output_type": "display_data",
          "data": {
            "text/plain": [
              "<Figure size 432x288 with 1 Axes>"
            ],
            "image/png": "[encoded data removed]"
          },
          "metadata": {
            "needs_background": "light"
          }
        }
      ]
    }
  ],
  "metadata": {
    "colab": {
      "provenance": []
    },
    "kernelspec": {
      "display_name": "Python 3",
      "name": "python3"
    },
    "language_info": {
      "name": "python"
    }
  },
  "nbformat": 4,
  "nbformat_minor": 0
}